{
  "nbformat": 4,
  "nbformat_minor": 0,
  "metadata": {
    "colab": {
      "provenance": []
    },
    "kernelspec": {
      "name": "python3",
      "display_name": "Python 3"
    },
    "language_info": {
      "name": "python"
    }
  },
  "cells": [
    {
      "cell_type": "markdown",
      "source": [
        "# Data Science Tools and Ecosystem"
      ],
      "metadata": {
        "id": "9fgYAq64rBy1"
      }
    },
    {
      "cell_type": "markdown",
      "source": [
        "In this notebook, Data Science Tools and Ecosystem are summarized."
      ],
      "metadata": {
        "id": "N-HFbAKsrKmo"
      }
    },
    {
      "cell_type": "markdown",
      "source": [
        "Some of the popular languages that Data Scientists use are:\n",
        "\n",
        "1. Python  \n",
        "2. R  \n",
        "3. Julia\n"
      ],
      "metadata": {
        "id": "QrY98iy-rQe1"
      }
    },
    {
      "cell_type": "markdown",
      "source": [
        "Some of the commonly used libraries used by Data Scientists include:\n",
        "\n",
        "1. Pandas  \n",
        "2. NumPy  \n",
        "3. Scikit-learn\n"
      ],
      "metadata": {
        "id": "Mt1E2JkHrUG9"
      }
    },
    {
      "cell_type": "markdown",
      "source": [
        "| Data Science Tools    |\n",
        "|----------------------|\n",
        "| Jupyter Notebook     |\n",
        "| RStudio              |\n",
        "| Visual Studio Code   |\n"
      ],
      "metadata": {
        "id": "xIZOQlV6rYYP"
      }
    },
    {
      "cell_type": "markdown",
      "source": [
        "### Below are a few examples of evaluating arithmetic expressions in Python.\n"
      ],
      "metadata": {
        "id": "UppOzrulra4G"
      }
    },
    {
      "cell_type": "code",
      "source": [
        "# This is a simple arithmetic expression to multiply then add integers\n",
        "(3 * 4) + 5\n"
      ],
      "metadata": {
        "colab": {
          "base_uri": "https://localhost:8080/"
        },
        "id": "NbDImNj3rfBS",
        "outputId": "7a5f9ca6-10d0-44f1-d2eb-b3218b0dc4e9"
      },
      "execution_count": null,
      "outputs": [
        {
          "output_type": "execute_result",
          "data": {
            "text/plain": [
              "17"
            ]
          },
          "metadata": {},
          "execution_count": 3
        }
      ]
    },
    {
      "cell_type": "code",
      "source": [
        "# This will convert 200 minutes to hours by dividing by 60\n",
        "200 / 60\n"
      ],
      "metadata": {
        "colab": {
          "base_uri": "https://localhost:8080/"
        },
        "id": "AaOFSLdZrA-s",
        "outputId": "f286adba-7734-49ca-964e-1312a19660ea"
      },
      "execution_count": null,
      "outputs": [
        {
          "output_type": "execute_result",
          "data": {
            "text/plain": [
              "3.3333333333333335"
            ]
          },
          "metadata": {},
          "execution_count": 4
        }
      ]
    },
    {
      "cell_type": "markdown",
      "source": [
        "**Objectives:**\n",
        "\n",
        "- List popular languages for Data Science  \n",
        "- List commonly used data science libraries  \n",
        "- Create and run arithmetic expressions in Python  \n",
        "- Introduce data science tools  \n",
        "- Share notebooks with GitHub\n"
      ],
      "metadata": {
        "id": "by51Ro6grk4H"
      }
    },
    {
      "cell_type": "markdown",
      "source": [
        "## Author\n",
        "\n",
        "Oussama ELHADJI"
      ],
      "metadata": {
        "id": "rCWDk9oBrnSk"
      }
    },
    {
      "cell_type": "code",
      "source": [],
      "metadata": {
        "id": "GNLw8N-xrhwG"
      },
      "execution_count": null,
      "outputs": []
    }
  ]
}